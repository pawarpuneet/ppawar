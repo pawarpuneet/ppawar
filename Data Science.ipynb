{
    "cells": [
        {
            "cell_type": "markdown",
            "metadata": {
                "collapsed": true
            },
            "source": "## This is my notebook from watson"
        },
        {
            "cell_type": "code",
            "execution_count": null,
            "metadata": {},
            "outputs": [],
            "source": ""
        }
    ],
    "metadata": {
        "kernelspec": {
            "display_name": "Python 3.10 with Spark",
            "language": "python3",
            "name": "python310"
        }
    },
    "nbformat": 4,
    "nbformat_minor": 1
}